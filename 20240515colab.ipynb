{
  "nbformat": 4,
  "nbformat_minor": 0,
  "metadata": {
    "colab": {
      "provenance": [],
      "toc_visible": true,
      "authorship_tag": "ABX9TyPDPG65/1VoUg2mp+TFcD+L",
      "include_colab_link": true
    },
    "kernelspec": {
      "name": "python3",
      "display_name": "Python 3"
    },
    "language_info": {
      "name": "python"
    }
  },
  "cells": [
    {
      "cell_type": "markdown",
      "metadata": {
        "id": "view-in-github",
        "colab_type": "text"
      },
      "source": [
        "<a href=\"https://colab.research.google.com/github/jemmychen365/gpt-ai-assistant/blob/main/20240515colab.ipynb\" target=\"_parent\"><img src=\"https://colab.research.google.com/assets/colab-badge.svg\" alt=\"Open In Colab\"/></a>"
      ]
    },
    {
      "cell_type": "code",
      "execution_count": null,
      "metadata": {
        "id": "AQ4v5sAuC9EI"
      },
      "outputs": [],
      "source": [
        "print(\"Hello world\")\n",
        "print(\"Hello Kitty\")\n",
        "print(\"12345\")"
      ]
    },
    {
      "cell_type": "markdown",
      "source": [
        "# Markdown筆記教學\n",
        "\n",
        "---\n"
      ],
      "metadata": {
        "id": "KsX6dVoHZq2F"
      }
    },
    {
      "cell_type": "markdown",
      "source": [
        "#筆記教學\n",
        "\n",
        "標題\n",
        "# 標題一\n",
        "## 標題二\n",
        "### 標題三\n",
        "內文內文內文內文內文內文內文內文內文內文內文內文內文內文內文內文內文內文內文內文內文內文內文內文內文內文內文內文內文內文\n",
        "\n",
        "水平線\n",
        "\n",
        "---\n",
        "\n",
        "編號\n",
        "1. 編號1\n",
        "2. 編號2\n",
        "3. 編號3\n",
        "\n",
        "* 項目一  \n",
        " * 項目一之一  \n",
        " 內文內文內文內文內文內文內文內文內文內文內文內文內文內文內文內文內文內文內文內文內文內文內文內文內文內文內文內文內文內文\n",
        "\n",
        "* 項目二\n",
        "* 項目三\n",
        "\n",
        "> 小技巧 備註  行內樣式  \n",
        "內文內文內文內文**ABC**內文內文內文內文內文內文內文內文內文內文內文內文內文內文*123*內文內文內文內文文內文內文內文文內文內文內文文內文內文內文***666****文內文內文內文內文內文內文文內文內文文內文`Ctrl+C`文內文內文內文\n",
        "\n",
        "程式碼\n",
        "```\n",
        "print(\"Hello world\")\n",
        "print(\"Hello Kitty\")\n",
        "print(\"12345\")\n",
        "```\n",
        "\n",
        "超連結\n",
        "[文字](http://www.google.com.tw)\n",
        "\n",
        "連結出圖片\n",
        "![](https://www.google.com.tw/images/branding/googlelogo/2x/googlelogo_color_272x92dp.png)\n",
        "\n",
        "\n",
        "圖片加超連結\n",
        "[![](https://www.google.com.tw/images/branding/googlelogo/2x/googlelogo_color_272x92dp.png)](http://www.google.com.tw)\n",
        "\n",
        "圖片超連結手指顯示網址文字\n",
        "[![](https://www.google.com.tw/images/branding/googlelogo/2x/googlelogo_color_272x92dp.png)](http://www.google.com.tw \"GOOGLE\")\n",
        "\n",
        "重要資源\n",
        "\n",
        "黃信溢\n",
        "上午9:48\n",
        "https://www.youtube.com/c/edreamerTW\n",
        "黃信溢\n",
        "上午10:00\n",
        "https://colab.research.google.com\n",
        "黃信溢\n",
        "上午11:31\n",
        "https://markdown.tw/\n",
        "\n",
        "字體選擇\n",
        "consolas\n"
      ],
      "metadata": {
        "id": "X4ZR0eAVKzvm"
      }
    }
  ]
}