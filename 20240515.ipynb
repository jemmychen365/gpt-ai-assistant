{
  "nbformat": 4,
  "nbformat_minor": 0,
  "metadata": {
    "colab": {
      "provenance": [],
      "toc_visible": true,
      "include_colab_link": true
    },
    "kernelspec": {
      "name": "python3",
      "display_name": "Python 3"
    },
    "language_info": {
      "name": "python"
    }
  },
  "cells": [
    {
      "cell_type": "markdown",
      "metadata": {
        "id": "view-in-github",
        "colab_type": "text"
      },
      "source": [
        "<a href=\"https://colab.research.google.com/github/jemmychen365/gpt-ai-assistant/blob/main/20240515.ipynb\" target=\"_parent\"><img src=\"https://colab.research.google.com/assets/colab-badge.svg\" alt=\"Open In Colab\"/></a>"
      ]
    },
    {
      "cell_type": "markdown",
      "source": [
        "# Markdown教學"
      ],
      "metadata": {
        "id": "br4MRTvWZdWF"
      }
    },
    {
      "cell_type": "markdown",
      "source": [
        "**這是內文** **ABC** 這是 *ABC* 內文這是內文 ***ABC*** 這是內文 `Ctrl+C` 這是內文這是內文這是內文這是內文這是內文這是內文這是內文這是內文這是內文\n",
        "\n",
        "這是內文這是內文[這是內文](https://www.google.com)  \n",
        "這是內文這是內文這是內文這是內文這是內文這是內文這是內文這是內文這是內文這是內文\n",
        "\n",
        "---\n",
        "\n",
        "1. 編號1：這是內文這是內文這是內文這是內文這是內文這是內文這是內文這是內文這是內文這是內文這是內文這是內文這是內文\n",
        "2. 編號2\n",
        "3. 編號3\n",
        "\n",
        "* 項目一\n",
        "    * 項目一之一\n",
        "* 項目二\n",
        "* 項目三\n",
        "\n",
        "> 小技巧  \n",
        "這是內文這是內文這是內文這是內文這是內文這是內文這是內文這是內文這是內文這是內文這是內文這是內文這是內文\n",
        "\n",
        "```\n",
        "print(\"Hello World\")\n",
        "print(\"Hello Kitty\")\n",
        "print(\"123\")\n",
        "```\n",
        "https://www.google.com\n",
        "\n",
        "[Google](https://www.google.com)\n",
        "\n",
        "![](https://www.google.com/images/branding/googlelogo/1x/googlelogo_color_272x92dp.png)\n",
        "\n",
        "[![](https://www.google.com/images/branding/googlelogo/1x/googlelogo_color_272x92dp.png)](https://www.google.com \"前往Google\")\n"
      ],
      "metadata": {
        "id": "gJomA-voKvx1"
      }
    },
    {
      "cell_type": "code",
      "execution_count": null,
      "metadata": {
        "id": "90ZWYht7C4_Q",
        "colab": {
          "base_uri": "https://localhost:8080/"
        },
        "outputId": "9d3461e5-ab60-42b2-bda7-dea5234b1524"
      },
      "outputs": [
        {
          "output_type": "stream",
          "name": "stdout",
          "text": [
            "Hello World\n",
            "Hello Kitty\n",
            "123\n"
          ]
        }
      ],
      "source": [
        "print(\"Hello World\")\n",
        "print(\"Hello Kitty\")\n",
        "print(\"123\")"
      ]
    },
    {
      "cell_type": "markdown",
      "source": [
        "# 一、變數與資料型態"
      ],
      "metadata": {
        "id": "ac9dkDZyxdnU"
      }
    },
    {
      "cell_type": "markdown",
      "source": [
        "## 宣告變數\n",
        "\n",
        "* 名稱必須**大小寫英文字母、數字**及**_**。\n",
        "* 命名時注意的第一個字母必須是大小寫字母或_，不能是數字。\n",
        "* 大小寫有區分，不要用到保留字。"
      ],
      "metadata": {
        "id": "BQ5cWXpLzpN5"
      }
    },
    {
      "cell_type": "code",
      "source": [
        "x = 0\n",
        "y = 1\n",
        "a = b = c = 0\n",
        "age, name = 18, \"David\"\n",
        "\n",
        "print(x, y)\n",
        "print(a, b, c)\n",
        "print(age, name)"
      ],
      "metadata": {
        "colab": {
          "base_uri": "https://localhost:8080/"
        },
        "id": "B6tLCyeHxiID",
        "outputId": "1888d0e6-8551-466f-e7ff-9a722f64271f"
      },
      "execution_count": null,
      "outputs": [
        {
          "output_type": "stream",
          "name": "stdout",
          "text": [
            "0 1\n",
            "0 0 0\n",
            "18 David\n"
          ]
        }
      ]
    },
    {
      "cell_type": "markdown",
      "source": [
        "## 資料型態\n",
        "* **整數(int)**, **浮點數(float)**, **字串(str)**, **布林值(bool)** True/False\n",
        "* type()查看資料型態\n",
        "* 資料型態的轉換 int(), float(), str(), bool()"
      ],
      "metadata": {
        "id": "r8g_9ridzk9f"
      }
    },
    {
      "cell_type": "code",
      "source": [
        "age = 18\n",
        "pi = 3.14\n",
        "name = \"David\"\n",
        "isMarry = True\n",
        "\n",
        "print(type(age))\n",
        "print(type(pi))\n",
        "print(type(name))\n",
        "print(type(isMarry))"
      ],
      "metadata": {
        "colab": {
          "base_uri": "https://localhost:8080/"
        },
        "id": "ohD6Y2Vizgvv",
        "outputId": "2056d3b8-d245-438c-c423-a0eb409ac969"
      },
      "execution_count": null,
      "outputs": [
        {
          "output_type": "stream",
          "name": "stdout",
          "text": [
            "<class 'int'>\n",
            "<class 'float'>\n",
            "<class 'str'>\n",
            "<class 'bool'>\n"
          ]
        }
      ]
    },
    {
      "cell_type": "markdown",
      "source": [
        "# 二、輸出：print()\n",
        "\n",
        "```\n",
        "print(值1, 值2, ..., sep=' ', end='\\n')\n",
        "```"
      ],
      "metadata": {
        "id": "Audmvxtu2HJZ"
      }
    },
    {
      "cell_type": "code",
      "source": [
        "# print(100, \"多吃水果\", True)\n",
        "# print(str(100) + \"多吃水果\" + str(True))\n",
        "# print(100, \"多吃水果\", True, sep=\"&\")\n",
        "# print(100, \"多吃水果\", True, end=\"\\n\")\n",
        "print('a', end=',')\n",
        "print('b', end=',')\n",
        "print('c', end=',')"
      ],
      "metadata": {
        "colab": {
          "base_uri": "https://localhost:8080/"
        },
        "id": "je5EVM9Y2WBl",
        "outputId": "6aaf3846-e619-4c1d-f59d-b80eb7392655"
      },
      "execution_count": null,
      "outputs": [
        {
          "output_type": "stream",
          "name": "stdout",
          "text": [
            "a,b,c,"
          ]
        }
      ]
    },
    {
      "cell_type": "markdown",
      "source": [
        "## print()格式化輸出：format()"
      ],
      "metadata": {
        "id": "WxpR34XE4nBq"
      }
    },
    {
      "cell_type": "code",
      "source": [
        "print(\"王小明考了80分\")\n",
        "print(\"{}考了{}分\".format('李大壯', 90))\n",
        "print(\"{0}考了{1}分\".format(\"王小明\", 80))\n",
        "print(\"考了{1}分的人是{0}\".format(\"王小明\", 80))\n",
        "print(\"考了{1}分的人是{0}, 真的是{0}啊！\".format(\"王小明\", 80))\n",
        "print(\"{0:5}考了{1:3}分\".format(\"王小明\", 80))\n",
        "print(\"{0:>5}考了{1:<3}分\".format(\"王小明\", 80))\n",
        "print(\"{0:^5}考了{1:3}分\".format(\"王小明\", 80))\n",
        "print(\"圓周率是{0:.2f}\".format(3.14159))\n",
        "print(\"{:5}考了{:3}分\".format(\"王小明\", 80))"
      ],
      "metadata": {
        "colab": {
          "base_uri": "https://localhost:8080/"
        },
        "id": "o9MxFVoS4xff",
        "outputId": "4307884e-22c8-4563-90c9-92c9fc171ad7"
      },
      "execution_count": null,
      "outputs": [
        {
          "output_type": "stream",
          "name": "stdout",
          "text": [
            "王小明考了80分\n",
            "李大壯考了90分\n",
            "王小明考了80分\n",
            "考了80分的人是王小明\n",
            "考了80分的人是王小明, 真的是王小明啊！\n",
            "王小明  考了 80分\n",
            "  王小明考了80 分\n",
            " 王小明 考了 80分\n",
            "圓周率是3.14\n",
            "王小明  考了 80分\n"
          ]
        }
      ]
    },
    {
      "cell_type": "markdown",
      "source": [
        "## print()格式化輸出：f-string"
      ],
      "metadata": {
        "id": "lG35tY9Q_RJ_"
      }
    },
    {
      "cell_type": "code",
      "source": [
        "name = \"David\"\n",
        "age = 18\n",
        "\n",
        "print(\"我的名字叫\", name, \",今年\", age, \"歲.\", sep=\"\")\n",
        "print(\"我的名字叫{},今年{}歲.\".format(name, age))\n",
        "print(f\"我的名字叫{name},今年{age}歲.\")\n",
        "print(f\"我的名字叫{name:8},今年{age:3}歲.\")"
      ],
      "metadata": {
        "colab": {
          "base_uri": "https://localhost:8080/"
        },
        "id": "3RrtvniB_S9B",
        "outputId": "f808ad8b-c991-4be1-f32d-9d37d03b336a"
      },
      "execution_count": null,
      "outputs": [
        {
          "output_type": "stream",
          "name": "stdout",
          "text": [
            "我的名字叫David,今年18歲.\n",
            "我的名字叫David,今年18歲.\n",
            "我的名字叫David,今年18歲.\n",
            "我的名字叫David   ,今年 18歲.\n"
          ]
        }
      ]
    },
    {
      "cell_type": "code",
      "source": [
        "x = 5\n",
        "y = 6\n",
        "print(f\"x是{x}, y是{y}, 二數相乘是{x*y}.\")"
      ],
      "metadata": {
        "colab": {
          "base_uri": "https://localhost:8080/"
        },
        "id": "WHwe5d5MBKLl",
        "outputId": "431dd1cd-ef0c-4938-eb02-d212db2d431f"
      },
      "execution_count": null,
      "outputs": [
        {
          "output_type": "stream",
          "name": "stdout",
          "text": [
            "x是5, y是6, 二數相乘是30.\n"
          ]
        }
      ]
    },
    {
      "cell_type": "markdown",
      "source": [
        "# 三、輸入：input()\n",
        "\n",
        "```\n",
        "變數 = input(\"提示字串\")\n",
        "```\n",
        "\n",
        "* input()取得的值一定是**字串**"
      ],
      "metadata": {
        "id": "xYFbC6o5B0gX"
      }
    },
    {
      "cell_type": "code",
      "source": [
        "score = input(\"請輸入你的分數：\")\n",
        "print(\"你的分數是{}分\".format(score))\n",
        "print(f\"你的分數是{score}分\")"
      ],
      "metadata": {
        "colab": {
          "base_uri": "https://localhost:8080/"
        },
        "id": "wlJ8FkMvCEWZ",
        "outputId": "1829d906-79ea-416c-abb5-fd5f40456619"
      },
      "execution_count": null,
      "outputs": [
        {
          "output_type": "stream",
          "name": "stdout",
          "text": [
            "請輸入你的分數：90\n",
            "你的分數是90分\n",
            "你的分數是90分\n"
          ]
        }
      ]
    },
    {
      "cell_type": "code",
      "source": [
        "score1 = int(input(\"請輸人你的國文成績：\"))\n",
        "score2 = int(input(\"請輸人你的英文成績：\"))\n",
        "score3 = int(input(\"請輸人你的數學成績：\"))\n",
        "total = score1 + score2 + score3\n",
        "print(f\"你的總分是{total}分\")"
      ],
      "metadata": {
        "colab": {
          "base_uri": "https://localhost:8080/"
        },
        "id": "tz5M3zmKD27A",
        "outputId": "c462df15-32df-4ab1-bcec-d87172be6195"
      },
      "execution_count": null,
      "outputs": [
        {
          "output_type": "stream",
          "name": "stdout",
          "text": [
            "請輸人你的國文成績：80\n",
            "請輸人你的英文成績：90\n",
            "請輸人你的數學成績：95\n",
            "你的總分是265分\n"
          ]
        }
      ]
    },
    {
      "cell_type": "markdown",
      "source": [
        "# 四、運算\n"
      ],
      "metadata": {
        "id": "xDYLpJJhFeTN"
      }
    },
    {
      "cell_type": "markdown",
      "source": [
        "## 算術運算子\n",
        "```\n",
        "+ - * / % // **\n",
        "```\n",
        "\n",
        "## 比較運算子\n",
        "```\n",
        "== != > >= < <=\n",
        "```\n",
        "\n",
        "## 邏輯運算子\n",
        "```\n",
        "not and or\n",
        "```\n",
        "\n",
        "## 複合指定運算子\n",
        "```\n",
        "+= -=\n",
        "```"
      ],
      "metadata": {
        "id": "EOMxqaBLFie-"
      }
    },
    {
      "cell_type": "code",
      "source": [
        "a = 5\n",
        "b = 2\n",
        "# 算術運算子\n",
        "print(a + b)\n",
        "print(a - b)\n",
        "print(a * b)\n",
        "print(a / b)        # 除的回傳值一定是浮點數\n",
        "print(a % b)        # 求餘\n",
        "print(a // b)       # 求商, 回傳值一定是整數\n",
        "print(a ** b)       # 求指數"
      ],
      "metadata": {
        "colab": {
          "base_uri": "https://localhost:8080/"
        },
        "id": "Y4idYGe3Geup",
        "outputId": "94e8654f-2c62-45ad-eb58-2d399434c0d5"
      },
      "execution_count": null,
      "outputs": [
        {
          "output_type": "stream",
          "name": "stdout",
          "text": [
            "7\n",
            "3\n",
            "10\n",
            "2.5\n",
            "1\n",
            "2\n",
            "25\n"
          ]
        }
      ]
    },
    {
      "cell_type": "code",
      "source": [
        "# 比較運算子\n",
        "print(a == b)\n",
        "print(a != b)\n",
        "print(a > b)\n",
        "print(a >= b)\n",
        "print(a < b)\n",
        "print(a <= b)"
      ],
      "metadata": {
        "colab": {
          "base_uri": "https://localhost:8080/"
        },
        "id": "ycYLVSb5Hk4X",
        "outputId": "0e1fb0b3-7425-4dd0-89f0-c28b4d00dd8b"
      },
      "execution_count": null,
      "outputs": [
        {
          "output_type": "stream",
          "name": "stdout",
          "text": [
            "False\n",
            "True\n",
            "True\n",
            "True\n",
            "False\n",
            "False\n"
          ]
        }
      ]
    },
    {
      "cell_type": "code",
      "source": [
        "# 複和指定運算子\n",
        "x = 5\n",
        "# x = x + 1\n",
        "# print(x)\n",
        "# x = x - 1\n",
        "# print(x)\n",
        "x += 1\n",
        "print(x)\n",
        "x -= 1\n",
        "print(x)\n",
        "x *= 2\n",
        "print(x)\n",
        "x /= 2\n",
        "print(x)"
      ],
      "metadata": {
        "colab": {
          "base_uri": "https://localhost:8080/"
        },
        "id": "tkd03nMtIR_t",
        "outputId": "1154c3cd-97c4-475c-a2c3-217d5b7d965e"
      },
      "execution_count": null,
      "outputs": [
        {
          "output_type": "stream",
          "name": "stdout",
          "text": [
            "6\n",
            "5\n",
            "10\n",
            "5.0\n"
          ]
        }
      ]
    },
    {
      "cell_type": "code",
      "source": [
        "# 字串運算\n",
        "x = 'a'\n",
        "print(x + x)\n",
        "print(x * 5)\n",
        "print('-' * 10)"
      ],
      "metadata": {
        "colab": {
          "base_uri": "https://localhost:8080/"
        },
        "id": "c_j-ZnC0JrDK",
        "outputId": "ccaaa651-f21c-408e-8daa-395ba8a82d3d"
      },
      "execution_count": null,
      "outputs": [
        {
          "output_type": "stream",
          "name": "stdout",
          "text": [
            "aa\n",
            "aaaaa\n",
            "----------\n"
          ]
        }
      ]
    },
    {
      "cell_type": "code",
      "source": [
        "# 溫度計算轉換器\n",
        "# 公式：華氏 = 攝氏 * (9/5) + 32\n",
        "# 輸入：請輸入攝氏溫度\n",
        "# 輸出：攝氏OO度等於華氏OO度\n",
        "\n",
        "TC = float(input(\"請輸入攝氏溫度：\"))\n",
        "TF = TC * (9/5) +  32\n",
        "print(f\"攝氏{TC:.2f}度等於華氏{TF:.2f}度\")"
      ],
      "metadata": {
        "id": "dXvIl6jTMqUA"
      },
      "execution_count": null,
      "outputs": []
    },
    {
      "cell_type": "code",
      "source": [
        "# BMI計算機\n",
        "# 公式 BMI = 體重(kg) / 身高(m)平方\n",
        "# 程式要求輸入身高(cm)，體重(kg)\n",
        "# 輸入完畢後之後，會顯示身高OO公分，體重OO公斤，BMI值為OO\n",
        "\n",
        "h = int(input(\"請輸入身高(cm):\"))\n",
        "w = int(input(\"請輸入你的體重(kg):\"))\n",
        "bmi = w / (h / 100)**2\n",
        "print(f\"身高{h}公分,體重{w}公斤,BMI值為{bmi:.2f}.\")"
      ],
      "metadata": {
        "colab": {
          "base_uri": "https://localhost:8080/"
        },
        "id": "rkv7xnL1Olft",
        "outputId": "d4d14a3d-d9d3-4136-d65f-25cce56d5429"
      },
      "execution_count": null,
      "outputs": [
        {
          "output_type": "stream",
          "name": "stdout",
          "text": [
            "請輸入身高(cm):170\n",
            "請輸入你的體重(kg):68\n",
            "身高170公分,體重68公斤,BMI值為23.53.\n"
          ]
        }
      ]
    },
    {
      "cell_type": "markdown",
      "source": [
        "# 五、判斷式"
      ],
      "metadata": {
        "id": "3yU5h5DNQ_0m"
      }
    },
    {
      "cell_type": "code",
      "source": [
        "# 單向判斷式\n",
        "score = int(input(\"請輸入你的成績：\"))\n",
        "if score >= 60:\n",
        "    print(\"Pass\")"
      ],
      "metadata": {
        "colab": {
          "base_uri": "https://localhost:8080/"
        },
        "id": "O3hDRZOCRBns",
        "outputId": "8c6d7273-d2b3-4b2f-81be-78c243be5e3f"
      },
      "execution_count": null,
      "outputs": [
        {
          "name": "stdout",
          "output_type": "stream",
          "text": [
            "請輸入你的成績：55\n"
          ]
        }
      ]
    },
    {
      "cell_type": "code",
      "source": [
        "# 雙向判斷式\n",
        "score = int(input(\"請輸入你的成績：\"))\n",
        "if score >= 60:\n",
        "    print(\"Pass\")\n",
        "else:\n",
        "    print(\"Down\")"
      ],
      "metadata": {
        "colab": {
          "base_uri": "https://localhost:8080/"
        },
        "id": "pj5-FsFVUeBf",
        "outputId": "ecbda21a-7cfe-4d86-ce13-8011c8a7136e"
      },
      "execution_count": null,
      "outputs": [
        {
          "output_type": "stream",
          "name": "stdout",
          "text": [
            "請輸入你的成績：55\n",
            "Down\n"
          ]
        }
      ]
    },
    {
      "cell_type": "code",
      "source": [
        "# 多向判斷式\n",
        "score = int(input(\"請輸入你的成績：\"))\n",
        "if score >= 90:\n",
        "    print(\"A\")\n",
        "elif score >= 80:\n",
        "    print(\"B\")\n",
        "elif score >= 70:\n",
        "    print(\"C\")\n",
        "elif score >= 60:\n",
        "    print(\"D\")\n",
        "else:\n",
        "    print(\"Down\")"
      ],
      "metadata": {
        "colab": {
          "base_uri": "https://localhost:8080/"
        },
        "id": "93ziVs42U2K5",
        "outputId": "f4f188ca-6dce-4094-b2e1-8ca1d13ff392"
      },
      "execution_count": null,
      "outputs": [
        {
          "output_type": "stream",
          "name": "stdout",
          "text": [
            "請輸入你的成績：55\n",
            "Down\n"
          ]
        }
      ]
    },
    {
      "cell_type": "code",
      "source": [
        "# 範例：判斷奇偶數\n",
        "# 程式要求你輸入一個正整數\n",
        "# 輸入完畢之後程式會顯示 OO數為奇數/偶數\n",
        "num = int(input(\"請輸入一個正整數：\"))\n",
        "if num % 2 == 0:\n",
        "    print(f\"{num}是偶數\")\n",
        "else:\n",
        "    print(f\"{num}是奇數\")"
      ],
      "metadata": {
        "colab": {
          "base_uri": "https://localhost:8080/"
        },
        "id": "lpY5Hr1XVwdP",
        "outputId": "6afd30ca-c995-4378-9feb-9783d6d60568"
      },
      "execution_count": null,
      "outputs": [
        {
          "output_type": "stream",
          "name": "stdout",
          "text": [
            "請輸入一個正整數：5\n",
            "5是奇數\n"
          ]
        }
      ]
    },
    {
      "cell_type": "code",
      "source": [
        "# 範例：判斷閏年\n",
        "# 請使用者輸入一個西元年，判斷該年是否為閏年\n",
        "# 閏年規則：\n",
        "# 若是整百年，又能被400整除，則為閏年\n",
        "# 若不是整百年，但能被4整除，也是閏年\n",
        "# True:2000, 2020, 2024, False:1900, 2023"
      ],
      "metadata": {
        "id": "pk-jOE1zW09D"
      },
      "execution_count": null,
      "outputs": []
    },
    {
      "cell_type": "code",
      "source": [
        "# 巢狀雙向判斷式\n",
        "leapyear = int(input(\"請輸入一個西元年:\"))\n",
        "if leapyear % 100 == 0:\n",
        "    if leapyear % 400 == 0:\n",
        "        print(f\"西元{leapyear}年是閏年\")\n",
        "    else:\n",
        "       print(f\"西元{leapyear}年不是閏年\")\n",
        "else:\n",
        "    if leapyear % 4 == 0:\n",
        "        print(f\"西元{leapyear}年是閏年\")\n",
        "    else:\n",
        "       print(f\"西元{leapyear}年不是閏年\")"
      ],
      "metadata": {
        "colab": {
          "base_uri": "https://localhost:8080/"
        },
        "id": "IGNK0mHZXdOW",
        "outputId": "1aa00077-d142-4c8d-e697-1f95c9db9332"
      },
      "execution_count": null,
      "outputs": [
        {
          "output_type": "stream",
          "name": "stdout",
          "text": [
            "請輸入一個西元年:2023\n",
            "西元2023年不是閏年\n"
          ]
        }
      ]
    }
  ]
}